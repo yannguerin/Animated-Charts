{
 "cells": [
  {
   "cell_type": "code",
   "execution_count": 1,
   "id": "393b572c",
   "metadata": {},
   "outputs": [],
   "source": [
    "import pandas as pd\n",
    "import numpy as np\n",
    "import matplotlib as mpl\n",
    "import matplotlib.pyplot as plt\n",
    "%matplotlib inline\n",
    "\n",
    "import plotly.express as px\n",
    "import plotly.graph_objects as go\n",
    "from plotly.subplots import make_subplots"
   ]
  },
  {
   "cell_type": "code",
   "execution_count": 4,
   "id": "49ef43c1",
   "metadata": {},
   "outputs": [],
   "source": [
    "co2 = pd.read_csv('./Data/co2_emission.csv')\n",
    "gdp = pd.read_csv('./Data/gdp_csv.csv')\n",
    "pop = pd.read_csv('./Data/population_by_country_2020.csv')\n",
    "con = pd.read_csv('./Data/countries_continent.csv')"
   ]
  },
  {
   "cell_type": "code",
   "execution_count": 5,
   "id": "11779292",
   "metadata": {},
   "outputs": [],
   "source": [
    "gdp.rename(columns = {'Country Code':'Code'}, inplace = True)\n",
    "gdp.rename(columns = {'Country Name':'Entity'}, inplace = True)\n",
    "pop.rename(columns = {'Country (or dependency)':'Entity'}, inplace = True)\n",
    "pop.rename(columns = {'Population (2020)':'Population'}, inplace = True)"
   ]
  },
  {
   "cell_type": "code",
   "execution_count": 6,
   "id": "558db870",
   "metadata": {},
   "outputs": [],
   "source": [
    "con.rename(columns = {'country':'Entity', 'region':'Continent'}, inplace = True)"
   ]
  },
  {
   "cell_type": "code",
   "execution_count": 7,
   "id": "092d4eef",
   "metadata": {},
   "outputs": [],
   "source": [
    "continent = con[['Entity', 'Continent', 'sub-region']]"
   ]
  },
  {
   "cell_type": "code",
   "execution_count": 8,
   "id": "b14b1862",
   "metadata": {},
   "outputs": [
    {
     "name": "stdout",
     "output_type": "stream",
     "text": [
      "          Entity  Population\n",
      "0          China  1440297825\n",
      "1          India  1382345085\n",
      "2  United States   331341050\n",
      "3      Indonesia   274021604\n",
      "4       Pakistan   221612785\n"
     ]
    }
   ],
   "source": [
    "pop2020 = pop[['Entity', 'Population']]\n",
    "print(pop2020.head())"
   ]
  },
  {
   "cell_type": "code",
   "execution_count": 9,
   "id": "ceafb8cb",
   "metadata": {},
   "outputs": [
    {
     "name": "stdout",
     "output_type": "stream",
     "text": [
      "222\n"
     ]
    }
   ],
   "source": [
    "print(co2.Code.nunique())"
   ]
  },
  {
   "cell_type": "code",
   "execution_count": 10,
   "id": "cce56d35",
   "metadata": {},
   "outputs": [
    {
     "name": "stdout",
     "output_type": "stream",
     "text": [
      "256\n"
     ]
    }
   ],
   "source": [
    "print(gdp.Code.nunique())"
   ]
  },
  {
   "cell_type": "code",
   "execution_count": 11,
   "id": "0fff7c29",
   "metadata": {},
   "outputs": [
    {
     "name": "stdout",
     "output_type": "stream",
     "text": [
      "233\n",
      "256\n"
     ]
    }
   ],
   "source": [
    "print(co2.Entity.nunique())\n",
    "print(gdp.Entity.nunique())"
   ]
  },
  {
   "cell_type": "code",
   "execution_count": 12,
   "id": "783a9473",
   "metadata": {},
   "outputs": [
    {
     "name": "stdout",
     "output_type": "stream",
     "text": [
      "267\n"
     ]
    }
   ],
   "source": [
    "print(co2.Year.nunique())"
   ]
  },
  {
   "cell_type": "code",
   "execution_count": 13,
   "id": "d0223a35",
   "metadata": {},
   "outputs": [
    {
     "name": "stdout",
     "output_type": "stream",
     "text": [
      "        Entity Code  Year  Annual CO₂ emissions (tonnes )         Value  \\\n",
      "0  Afghanistan  AFG  1960                       413883.42  5.377778e+08   \n",
      "1  Afghanistan  AFG  1961                       490797.70  5.488889e+08   \n",
      "2  Afghanistan  AFG  1962                       688594.27  5.466667e+08   \n",
      "3  Afghanistan  AFG  1963                       706735.98  7.511112e+08   \n",
      "4  Afghanistan  AFG  1964                       838550.83  8.000000e+08   \n",
      "\n",
      "   Population Continent     sub-region  \n",
      "0    39074280      Asia  Southern Asia  \n",
      "1    39074280      Asia  Southern Asia  \n",
      "2    39074280      Asia  Southern Asia  \n",
      "3    39074280      Asia  Southern Asia  \n",
      "4    39074280      Asia  Southern Asia  \n"
     ]
    }
   ],
   "source": [
    "co2gdp = pd.merge(co2, gdp, how='inner', on=['Code', 'Entity', 'Year'])\n",
    "co2gdp = pd.merge(co2gdp, pop2020, how='inner', on=['Entity'])\n",
    "co2_gdp = pd.merge(co2gdp, continent, how='inner', on=['Entity'])\n",
    "print(co2_gdp.head())"
   ]
  },
  {
   "cell_type": "code",
   "execution_count": 14,
   "id": "c6a324c5",
   "metadata": {},
   "outputs": [],
   "source": [
    "co2_gdp.rename(columns = {'Value':'GDP'}, inplace = True)\n",
    "co2_gdp.rename(columns = {'Annual CO₂ emissions (tonnes )':'Emissions'}, inplace = True)"
   ]
  },
  {
   "cell_type": "code",
   "execution_count": 15,
   "id": "044a0171",
   "metadata": {},
   "outputs": [],
   "source": [
    "co2_gdp.sort_values(by=['Year'], inplace=True)"
   ]
  },
  {
   "cell_type": "code",
   "execution_count": 16,
   "id": "dd7608c0",
   "metadata": {},
   "outputs": [
    {
     "data": {
      "text/plain": [
       "18624475000000.0"
      ]
     },
     "execution_count": 16,
     "metadata": {},
     "output_type": "execute_result"
    }
   ],
   "source": [
    "co2_gdp.GDP.max()"
   ]
  },
  {
   "cell_type": "code",
   "execution_count": null,
   "id": "b26ba0e2",
   "metadata": {},
   "outputs": [],
   "source": []
  }
 ],
 "metadata": {
  "kernelspec": {
   "display_name": "Python 3 (ipykernel)",
   "language": "python",
   "name": "python3"
  },
  "language_info": {
   "codemirror_mode": {
    "name": "ipython",
    "version": 3
   },
   "file_extension": ".py",
   "mimetype": "text/x-python",
   "name": "python",
   "nbconvert_exporter": "python",
   "pygments_lexer": "ipython3",
   "version": "3.10.5"
  }
 },
 "nbformat": 4,
 "nbformat_minor": 5
}
